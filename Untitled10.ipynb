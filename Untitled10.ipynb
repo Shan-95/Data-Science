{
 "cells": [
  {
   "cell_type": "code",
   "execution_count": 1,
   "metadata": {},
   "outputs": [],
   "source": [
    "import random\n",
    "\n",
    "import numpy as np\n",
    "import pandas as pd\n",
    "from pandas import DataFrame,Series"
   ]
  },
  {
   "cell_type": "code",
   "execution_count": 2,
   "metadata": {},
   "outputs": [
    {
     "name": "stdout",
     "output_type": "stream",
     "text": [
      "   total_bill   tip     sex smoker  day    time  size\n",
      "0       16.99  1.01  Female     No  Sun  Dinner     2\n",
      "1       10.34  1.66    Male     No  Sun  Dinner     3\n",
      "2       21.01  3.50    Male     No  Sun  Dinner     3\n",
      "3       23.68  3.31    Male     No  Sun  Dinner     2\n",
      "4       24.59  3.61  Female     No  Sun  Dinner     4\n",
      "[dtype('float64'), dtype('float64'), dtype('O'), dtype('O'), dtype('O'), dtype('O'), dtype('int64')]\n"
     ]
    }
   ],
   "source": [
    "df =  pd.read_csv(\"files/tips.csv\") \n",
    "\n",
    "print(df.head())\n",
    "\n",
    "print(list(df.dtypes))"
   ]
  },
  {
   "cell_type": "code",
   "execution_count": 3,
   "metadata": {},
   "outputs": [],
   "source": [
    "def hampel_algo(df, dimension, measure, threshold=3.0, window = 5 ):\n",
    "    \n",
    "    _measure = list(df[measure])\n",
    "    _measure_outliers = []\n",
    "    for i in range(window):\n",
    "        _measure_outliers.append(False)\n",
    "\n",
    "    for i in range(0, len(_measure) - window):\n",
    "        _temp = _measure[i:i+window]\n",
    "\n",
    "        _means = np.mean(_temp)\n",
    "        _std = np.std(_temp)\n",
    "        val = abs(_temp[0] - _means) / _std\n",
    "\n",
    "        _measure_outliers.append(val > threshold)\n",
    "\n",
    "    _measure_outliers = _measure_outliers[:df.shape[0]]\n",
    "\n",
    "    df['outliers'] = _measure_outliers\n",
    "\n",
    "    return df, sum(_measure_outliers), len(_measure_outliers) - sum(_measure_outliers)\n"
   ]
  },
  {
   "cell_type": "code",
   "execution_count": 24,
   "metadata": {},
   "outputs": [],
   "source": [
    "def zscore(df, dimension, measure, threshold=3.0):\n",
    "    _mean = df[measure].mean()\n",
    "    _std = df[measure].std()\n",
    "\n",
    "    df[measure] = abs(df[measure] - _mean) / _std\n",
    "\n",
    "    df['outlier'] = df[measure] > threshold\n",
    "\n",
    "    outliers = df[df['outlier']]\n",
    "    not_outlier = df[True ^ df['outlier']]\n",
    "    %matplotlib inline\n",
    "    import matplotlib.pyplot as plt\n",
    "    plt.style.use('seaborn-whitegrid')\n",
    "    \n",
    "    figs, ax = plt.subplots(figsize=(16,8))\n",
    "    ax.scatter(df[measure], df[dimension])\n",
    "\n",
    "    return df, outliers.shape[0], not_outlier.shape[0]"
   ]
  },
  {
   "cell_type": "code",
   "execution_count": 25,
   "metadata": {},
   "outputs": [],
   "source": [
    "def boxplot(df, dimension, measure ):\n",
    "    Q1 =  df[measure].quantile(0.25)\n",
    "    Q2 = df[measure].quantile(0.5)\n",
    "    Q3 = df[measure].quantile(0.75)\n",
    "    QV_limit = 1.5*(Q3 - Q1)\n",
    "    df['outliers'] = (df[measure] > QV_limit) | (df[measure] < Q1 - QV_limit)\n",
    "    \n",
    "    outliers = df[df['outliers']]\n",
    "    not_outlier = df[True ^ df['outliers']]\n",
    "    \n",
    "    \n",
    "    import seaborn as sns\n",
    "    import matplotlib.pyplot as plt\n",
    "\n",
    "    sns.boxplot(x=df[measure] )\n",
    "    \n",
    "    return df, outliers.shape[0], not_outlier.shape[0]"
   ]
  },
  {
   "cell_type": "code",
   "execution_count": 28,
   "metadata": {},
   "outputs": [
    {
     "name": "stdout",
     "output_type": "stream",
     "text": [
      "Outlier Detection\n",
      "1.HAMPEL_ALGO\n",
      "2.Z_SCORE\n",
      "3.BOXPLOT\n",
      "Enter Choice(1-4): 2\n",
      "('Number of outliers: ', 7)\n",
      "('Number of not an outliers: ', 237)\n"
     ]
    },
    {
     "data": {
      "image/png": "[encoded data removed]",
      "text/plain": [
       "<Figure size 1152x576 with 1 Axes>"
      ]
     },
     "metadata": {},
     "output_type": "display_data"
    }
   ],
   "source": [
    "# check which methods is best to detect outliers\n",
    "methods = 'zscore'\n",
    "\n",
    "print(\"Outlier Detection\")\n",
    "print(\"1.HAMPEL_ALGO\")\n",
    "print(\"2.Z_SCORE\")\n",
    "print(\"3.BOXPLOT\")\n",
    "\n",
    "methods = int(input(\"Enter Choice(1-4): \"))\n",
    "\n",
    "if methods == 1:\n",
    "    use_method = hampel_algo\n",
    "elif methods == 2:\n",
    "    use_method = zscore\n",
    "elif methods == 3:\n",
    "    use_method = boxplot\n",
    "\n",
    "# if methods == 'zscore':\n",
    "#     use_method = zscore\n",
    "# # else:\n",
    "# #     use_method = hampel_algo\n",
    "\n",
    "\n",
    "_df, n_outliers, n_non_outliers = use_method(df=df,\n",
    "        dimension='day',\n",
    "        measure='total_bill')\n",
    "\n",
    "print('Number of outliers: ', n_outliers)\n",
    "print('Number of not an outliers: ', n_non_outliers)"
   ]
  },
  {
   "cell_type": "code",
   "execution_count": null,
   "metadata": {},
   "outputs": [],
   "source": []
  },
  {
   "cell_type": "code",
   "execution_count": null,
   "metadata": {},
   "outputs": [],
   "source": []
  }
 ],
 "metadata": {
  "kernelspec": {
   "display_name": "Python 2",
   "language": "python",
   "name": "python2"
  },
  "language_info": {
   "codemirror_mode": {
    "name": "ipython",
    "version": 2
   },
   "file_extension": ".py",
   "mimetype": "text/x-python",
   "name": "python",
   "nbconvert_exporter": "python",
   "pygments_lexer": "ipython2",
   "version": "2.7.16"
  }
 },
 "nbformat": 4,
 "nbformat_minor": 2
}
