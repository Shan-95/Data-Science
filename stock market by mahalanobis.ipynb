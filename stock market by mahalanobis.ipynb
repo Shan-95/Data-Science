{
 "cells": [
  {
   "cell_type": "code",
   "execution_count": 3,
   "metadata": {},
   "outputs": [],
   "source": [
    "import pandas as pd\n",
    "from pandas import Series,DataFrame\n",
    "import numpy as np"
   ]
  },
  {
   "cell_type": "code",
   "execution_count": 4,
   "metadata": {},
   "outputs": [],
   "source": [
    "import matplotlib.pyplot as plt\n",
    "import seaborn as sns\n",
    "sns.set_style('whitegrid')\n",
    "%matplotlib inline"
   ]
  },
  {
   "cell_type": "code",
   "execution_count": 5,
   "metadata": {},
   "outputs": [],
   "source": [
    "from pandas_datareader.data import DataReader"
   ]
  },
  {
   "cell_type": "code",
   "execution_count": 6,
   "metadata": {},
   "outputs": [],
   "source": [
    "from datetime import datetime"
   ]
  },
  {
   "cell_type": "code",
   "execution_count": 7,
   "metadata": {},
   "outputs": [],
   "source": [
    "from __future__ import division"
   ]
  },
  {
   "cell_type": "code",
   "execution_count": 8,
   "metadata": {},
   "outputs": [],
   "source": [
    "tech_list = ['AAPL','GOOG','MSFT']"
   ]
  },
  {
   "cell_type": "code",
   "execution_count": 9,
   "metadata": {},
   "outputs": [],
   "source": [
    "end = datetime.now() #from todays date excluding d last year\n",
    "start = datetime(end.year-1,end.month,end.day)"
   ]
  },
  {
   "cell_type": "code",
   "execution_count": 14,
   "metadata": {},
   "outputs": [],
   "source": [
    "for stock in tech_list:   #for grabing d data \n",
    "    # Set DataFrame as the Stock Ticker\n",
    "    globals()[stock] = DataReader(stock,'yahoo',start,end)\n",
    "    "
   ]
  },
  {
   "cell_type": "code",
   "execution_count": 15,
   "metadata": {
    "scrolled": true
   },
   "outputs": [
    {
     "data": {
      "text/html": [
       "<div>\n",
       "<style scoped>\n",
       "    .dataframe tbody tr th:only-of-type {\n",
       "        vertical-align: middle;\n",
       "    }\n",
       "\n",
       "    .dataframe tbody tr th {\n",
       "        vertical-align: top;\n",
       "    }\n",
       "\n",
       "    .dataframe thead th {\n",
       "        text-align: right;\n",
       "    }\n",
       "</style>\n",
       "<table border=\"1\" class=\"dataframe\">\n",
       "  <thead>\n",
       "    <tr style=\"text-align: right;\">\n",
       "      <th></th>\n",
       "      <th>High</th>\n",
       "      <th>Low</th>\n",
       "      <th>Open</th>\n",
       "      <th>Close</th>\n",
       "      <th>Volume</th>\n",
       "      <th>Adj Close</th>\n",
       "    </tr>\n",
       "    <tr>\n",
       "      <th>Date</th>\n",
       "      <th></th>\n",
       "      <th></th>\n",
       "      <th></th>\n",
       "      <th></th>\n",
       "      <th></th>\n",
       "      <th></th>\n",
       "    </tr>\n",
       "  </thead>\n",
       "  <tbody>\n",
       "    <tr>\n",
       "      <th>2019-07-08</th>\n",
       "      <td>201.399994</td>\n",
       "      <td>198.410004</td>\n",
       "      <td>200.809998</td>\n",
       "      <td>200.020004</td>\n",
       "      <td>25338600.0</td>\n",
       "      <td>197.661011</td>\n",
       "    </tr>\n",
       "    <tr>\n",
       "      <th>2019-07-09</th>\n",
       "      <td>201.509995</td>\n",
       "      <td>198.809998</td>\n",
       "      <td>199.199997</td>\n",
       "      <td>201.240005</td>\n",
       "      <td>20578000.0</td>\n",
       "      <td>198.866638</td>\n",
       "    </tr>\n",
       "    <tr>\n",
       "      <th>2019-07-10</th>\n",
       "      <td>203.729996</td>\n",
       "      <td>201.559998</td>\n",
       "      <td>201.850006</td>\n",
       "      <td>203.229996</td>\n",
       "      <td>17897100.0</td>\n",
       "      <td>200.833160</td>\n",
       "    </tr>\n",
       "    <tr>\n",
       "      <th>2019-07-11</th>\n",
       "      <td>204.389999</td>\n",
       "      <td>201.710007</td>\n",
       "      <td>203.309998</td>\n",
       "      <td>201.750000</td>\n",
       "      <td>20191800.0</td>\n",
       "      <td>199.370621</td>\n",
       "    </tr>\n",
       "    <tr>\n",
       "      <th>2019-07-12</th>\n",
       "      <td>204.000000</td>\n",
       "      <td>202.199997</td>\n",
       "      <td>202.449997</td>\n",
       "      <td>203.300003</td>\n",
       "      <td>17595200.0</td>\n",
       "      <td>200.902344</td>\n",
       "    </tr>\n",
       "  </tbody>\n",
       "</table>\n",
       "</div>"
      ],
      "text/plain": [
       "                  High         Low        Open       Close      Volume  \\\n",
       "Date                                                                     \n",
       "2019-07-08  201.399994  198.410004  200.809998  200.020004  25338600.0   \n",
       "2019-07-09  201.509995  198.809998  199.199997  201.240005  20578000.0   \n",
       "2019-07-10  203.729996  201.559998  201.850006  203.229996  17897100.0   \n",
       "2019-07-11  204.389999  201.710007  203.309998  201.750000  20191800.0   \n",
       "2019-07-12  204.000000  202.199997  202.449997  203.300003  17595200.0   \n",
       "\n",
       "             Adj Close  \n",
       "Date                    \n",
       "2019-07-08  197.661011  \n",
       "2019-07-09  198.866638  \n",
       "2019-07-10  200.833160  \n",
       "2019-07-11  199.370621  \n",
       "2019-07-12  200.902344  "
      ]
     },
     "execution_count": 15,
     "metadata": {},
     "output_type": "execute_result"
    }
   ],
   "source": [
    "AAPL.head()"
   ]
  },
  {
   "cell_type": "code",
   "execution_count": 16,
   "metadata": {},
   "outputs": [
    {
     "data": {
      "text/html": [
       "<div>\n",
       "<style scoped>\n",
       "    .dataframe tbody tr th:only-of-type {\n",
       "        vertical-align: middle;\n",
       "    }\n",
       "\n",
       "    .dataframe tbody tr th {\n",
       "        vertical-align: top;\n",
       "    }\n",
       "\n",
       "    .dataframe thead th {\n",
       "        text-align: right;\n",
       "    }\n",
       "</style>\n",
       "<table border=\"1\" class=\"dataframe\">\n",
       "  <thead>\n",
       "    <tr style=\"text-align: right;\">\n",
       "      <th></th>\n",
       "      <th>High</th>\n",
       "      <th>Low</th>\n",
       "      <th>Open</th>\n",
       "      <th>Close</th>\n",
       "      <th>Volume</th>\n",
       "      <th>Adj Close</th>\n",
       "    </tr>\n",
       "  </thead>\n",
       "  <tbody>\n",
       "    <tr>\n",
       "      <th>count</th>\n",
       "      <td>253.000000</td>\n",
       "      <td>253.000000</td>\n",
       "      <td>253.000000</td>\n",
       "      <td>253.000000</td>\n",
       "      <td>2.530000e+02</td>\n",
       "      <td>253.000000</td>\n",
       "    </tr>\n",
       "    <tr>\n",
       "      <th>mean</th>\n",
       "      <td>272.731107</td>\n",
       "      <td>266.461898</td>\n",
       "      <td>269.205296</td>\n",
       "      <td>269.882687</td>\n",
       "      <td>3.470043e+07</td>\n",
       "      <td>268.660670</td>\n",
       "    </tr>\n",
       "    <tr>\n",
       "      <th>std</th>\n",
       "      <td>47.277080</td>\n",
       "      <td>46.147501</td>\n",
       "      <td>46.567737</td>\n",
       "      <td>46.859106</td>\n",
       "      <td>1.711015e+07</td>\n",
       "      <td>47.412113</td>\n",
       "    </tr>\n",
       "    <tr>\n",
       "      <th>min</th>\n",
       "      <td>198.070007</td>\n",
       "      <td>192.580002</td>\n",
       "      <td>195.410004</td>\n",
       "      <td>193.339996</td>\n",
       "      <td>1.165440e+07</td>\n",
       "      <td>191.059784</td>\n",
       "    </tr>\n",
       "    <tr>\n",
       "      <th>25%</th>\n",
       "      <td>227.789993</td>\n",
       "      <td>223.889999</td>\n",
       "      <td>225.639999</td>\n",
       "      <td>224.399994</td>\n",
       "      <td>2.358080e+07</td>\n",
       "      <td>222.784500</td>\n",
       "    </tr>\n",
       "    <tr>\n",
       "      <th>50%</th>\n",
       "      <td>270.070007</td>\n",
       "      <td>264.700012</td>\n",
       "      <td>267.269989</td>\n",
       "      <td>267.250000</td>\n",
       "      <td>2.970670e+07</td>\n",
       "      <td>265.897461</td>\n",
       "    </tr>\n",
       "    <tr>\n",
       "      <th>75%</th>\n",
       "      <td>315.500000</td>\n",
       "      <td>307.239990</td>\n",
       "      <td>310.600006</td>\n",
       "      <td>310.130005</td>\n",
       "      <td>4.052910e+07</td>\n",
       "      <td>309.540009</td>\n",
       "    </tr>\n",
       "    <tr>\n",
       "      <th>max</th>\n",
       "      <td>378.619995</td>\n",
       "      <td>372.230011</td>\n",
       "      <td>375.410004</td>\n",
       "      <td>373.850006</td>\n",
       "      <td>1.067212e+08</td>\n",
       "      <td>373.850006</td>\n",
       "    </tr>\n",
       "  </tbody>\n",
       "</table>\n",
       "</div>"
      ],
      "text/plain": [
       "             High         Low        Open       Close        Volume  \\\n",
       "count  253.000000  253.000000  253.000000  253.000000  2.530000e+02   \n",
       "mean   272.731107  266.461898  269.205296  269.882687  3.470043e+07   \n",
       "std     47.277080   46.147501   46.567737   46.859106  1.711015e+07   \n",
       "min    198.070007  192.580002  195.410004  193.339996  1.165440e+07   \n",
       "25%    227.789993  223.889999  225.639999  224.399994  2.358080e+07   \n",
       "50%    270.070007  264.700012  267.269989  267.250000  2.970670e+07   \n",
       "75%    315.500000  307.239990  310.600006  310.130005  4.052910e+07   \n",
       "max    378.619995  372.230011  375.410004  373.850006  1.067212e+08   \n",
       "\n",
       "        Adj Close  \n",
       "count  253.000000  \n",
       "mean   268.660670  \n",
       "std     47.412113  \n",
       "min    191.059784  \n",
       "25%    222.784500  \n",
       "50%    265.897461  \n",
       "75%    309.540009  \n",
       "max    373.850006  "
      ]
     },
     "execution_count": 16,
     "metadata": {},
     "output_type": "execute_result"
    }
   ],
   "source": [
    "AAPL.describe()"
   ]
  },
  {
   "cell_type": "code",
   "execution_count": 17,
   "metadata": {},
   "outputs": [],
   "source": [
    "ma_day = [10,20,50] #taking avg. of no. days\n",
    "\n",
    "for ma in ma_day:\n",
    "    column_name = \"MA for %s days\" %(str(ma))\n",
    "    AAPL[column_name] = pd.Series(AAPL['Adj Close']).rolling(window=ma).mean()"
   ]
  },
  {
   "cell_type": "code",
   "execution_count": 23,
   "metadata": {},
   "outputs": [],
   "source": [
    "\n",
    "stocks = DataReader(tech_list,'yahoo',start,end)['Adj Close']"
   ]
  },
  {
   "cell_type": "code",
   "execution_count": 24,
   "metadata": {},
   "outputs": [
    {
     "data": {
      "text/html": [
       "<div>\n",
       "<style scoped>\n",
       "    .dataframe tbody tr th:only-of-type {\n",
       "        vertical-align: middle;\n",
       "    }\n",
       "\n",
       "    .dataframe tbody tr th {\n",
       "        vertical-align: top;\n",
       "    }\n",
       "\n",
       "    .dataframe thead th {\n",
       "        text-align: right;\n",
       "    }\n",
       "</style>\n",
       "<table border=\"1\" class=\"dataframe\">\n",
       "  <thead>\n",
       "    <tr style=\"text-align: right;\">\n",
       "      <th>Symbols</th>\n",
       "      <th>AAPL</th>\n",
       "      <th>GOOG</th>\n",
       "      <th>MSFT</th>\n",
       "    </tr>\n",
       "    <tr>\n",
       "      <th>Date</th>\n",
       "      <th></th>\n",
       "      <th></th>\n",
       "      <th></th>\n",
       "    </tr>\n",
       "  </thead>\n",
       "  <tbody>\n",
       "    <tr>\n",
       "      <th>2019-07-08</th>\n",
       "      <td>197.661011</td>\n",
       "      <td>1116.349976</td>\n",
       "      <td>135.295151</td>\n",
       "    </tr>\n",
       "    <tr>\n",
       "      <th>2019-07-09</th>\n",
       "      <td>198.866638</td>\n",
       "      <td>1124.829956</td>\n",
       "      <td>134.801239</td>\n",
       "    </tr>\n",
       "    <tr>\n",
       "      <th>2019-07-10</th>\n",
       "      <td>200.833160</td>\n",
       "      <td>1140.479980</td>\n",
       "      <td>136.174347</td>\n",
       "    </tr>\n",
       "    <tr>\n",
       "      <th>2019-07-11</th>\n",
       "      <td>199.370621</td>\n",
       "      <td>1144.209961</td>\n",
       "      <td>136.717636</td>\n",
       "    </tr>\n",
       "    <tr>\n",
       "      <th>2019-07-12</th>\n",
       "      <td>200.902344</td>\n",
       "      <td>1144.900024</td>\n",
       "      <td>137.211563</td>\n",
       "    </tr>\n",
       "  </tbody>\n",
       "</table>\n",
       "</div>"
      ],
      "text/plain": [
       "Symbols           AAPL         GOOG        MSFT\n",
       "Date                                           \n",
       "2019-07-08  197.661011  1116.349976  135.295151\n",
       "2019-07-09  198.866638  1124.829956  134.801239\n",
       "2019-07-10  200.833160  1140.479980  136.174347\n",
       "2019-07-11  199.370621  1144.209961  136.717636\n",
       "2019-07-12  200.902344  1144.900024  137.211563"
      ]
     },
     "execution_count": 24,
     "metadata": {},
     "output_type": "execute_result"
    }
   ],
   "source": [
    "stocks.head()"
   ]
  },
  {
   "cell_type": "code",
   "execution_count": 25,
   "metadata": {},
   "outputs": [
    {
     "data": {
      "text/html": [
       "<div>\n",
       "<style scoped>\n",
       "    .dataframe tbody tr th:only-of-type {\n",
       "        vertical-align: middle;\n",
       "    }\n",
       "\n",
       "    .dataframe tbody tr th {\n",
       "        vertical-align: top;\n",
       "    }\n",
       "\n",
       "    .dataframe thead th {\n",
       "        text-align: right;\n",
       "    }\n",
       "</style>\n",
       "<table border=\"1\" class=\"dataframe\">\n",
       "  <thead>\n",
       "    <tr style=\"text-align: right;\">\n",
       "      <th>Symbols</th>\n",
       "      <th>AAPL</th>\n",
       "      <th>GOOG</th>\n",
       "      <th>MSFT</th>\n",
       "    </tr>\n",
       "    <tr>\n",
       "      <th>Date</th>\n",
       "      <th></th>\n",
       "      <th></th>\n",
       "      <th></th>\n",
       "    </tr>\n",
       "  </thead>\n",
       "  <tbody>\n",
       "    <tr>\n",
       "      <th>2019-07-09</th>\n",
       "      <td>0.609947</td>\n",
       "      <td>0.759617</td>\n",
       "      <td>-0.365062</td>\n",
       "    </tr>\n",
       "    <tr>\n",
       "      <th>2019-07-10</th>\n",
       "      <td>0.988865</td>\n",
       "      <td>1.391324</td>\n",
       "      <td>1.018617</td>\n",
       "    </tr>\n",
       "    <tr>\n",
       "      <th>2019-07-11</th>\n",
       "      <td>-0.728236</td>\n",
       "      <td>0.327054</td>\n",
       "      <td>0.398966</td>\n",
       "    </tr>\n",
       "    <tr>\n",
       "      <th>2019-07-12</th>\n",
       "      <td>0.768279</td>\n",
       "      <td>0.060309</td>\n",
       "      <td>0.361275</td>\n",
       "    </tr>\n",
       "    <tr>\n",
       "      <th>2019-07-15</th>\n",
       "      <td>0.939494</td>\n",
       "      <td>0.475146</td>\n",
       "      <td>0.000000</td>\n",
       "    </tr>\n",
       "  </tbody>\n",
       "</table>\n",
       "</div>"
      ],
      "text/plain": [
       "Symbols         AAPL      GOOG      MSFT\n",
       "Date                                    \n",
       "2019-07-09  0.609947  0.759617 -0.365062\n",
       "2019-07-10  0.988865  1.391324  1.018617\n",
       "2019-07-11 -0.728236  0.327054  0.398966\n",
       "2019-07-12  0.768279  0.060309  0.361275\n",
       "2019-07-15  0.939494  0.475146  0.000000"
      ]
     },
     "execution_count": 25,
     "metadata": {},
     "output_type": "execute_result"
    }
   ],
   "source": [
    "N,d = stocks.shape\n",
    "delta = pd.DataFrame(100*np.divide(stocks.iloc[1:,:].values-stocks.iloc[:N-1,:].values, stocks.iloc[:N-1,:].values),\n",
    "                    columns=stocks.columns, index=stocks.iloc[1:].index)\n",
    "delta.head()"
   ]
  },
  {
   "cell_type": "code",
   "execution_count": 26,
   "metadata": {},
   "outputs": [
    {
     "data": {
      "image/png": "[encoded data removed]",
      "text/plain": [
       "<Figure size 576x360 with 1 Axes>"
      ]
     },
     "metadata": {
      "needs_background": "light"
     },
     "output_type": "display_data"
    }
   ],
   "source": [
    "from mpl_toolkits.mplot3d import Axes3D\n",
    "import matplotlib.pyplot as plt\n",
    "%matplotlib inline\n",
    "\n",
    "fig = plt.figure(figsize=(8,5)).gca(projection='3d')\n",
    "fig.scatter(delta.AAPL,delta.GOOG,delta.MSFT)\n",
    "fig.set_xlabel('AAPL')\n",
    "fig.set_ylabel('GOOG')\n",
    "fig.set_zlabel('MSFT')\n",
    "plt.show()"
   ]
  },
  {
   "cell_type": "code",
   "execution_count": 37,
   "metadata": {},
   "outputs": [
    {
     "name": "stdout",
     "output_type": "stream",
     "text": [
      "Symbols\n",
      "AAPL    0.284594\n",
      "GOOG    0.139801\n",
      "MSFT    0.203602\n",
      "dtype: float64\n"
     ]
    }
   ],
   "source": [
    "meanValue = delta.mean() #calculating using Mahalanobis \n",
    "print(meanValue)"
   ]
  },
  {
   "cell_type": "code",
   "execution_count": 38,
   "metadata": {},
   "outputs": [
    {
     "name": "stdout",
     "output_type": "stream",
     "text": [
      "Symbols      AAPL      GOOG      MSFT\n",
      "Symbols                              \n",
      "AAPL     6.525340  4.873357  5.714920\n",
      "GOOG     4.873357  5.316174  5.001521\n",
      "MSFT     5.714920  5.001521  6.470281\n"
     ]
    }
   ],
   "source": [
    "CovValue = delta.cov()\n",
    "print(CovValue)"
   ]
  },
  {
   "cell_type": "code",
   "execution_count": 40,
   "metadata": {
    "scrolled": true
   },
   "outputs": [
    {
     "name": "stderr",
     "output_type": "stream",
     "text": [
      "C:\\Users\\Shantanu\\Anaconda2\\lib\\site-packages\\ipykernel_launcher.py:3: FutureWarning: Method .as_matrix will be removed in a future version. Use .values instead.\n",
      "  This is separate from the ipykernel package so we can avoid doing imports until\n",
      "C:\\Users\\Shantanu\\Anaconda2\\lib\\site-packages\\ipykernel_launcher.py:4: FutureWarning: Method .as_matrix will be removed in a future version. Use .values instead.\n",
      "  after removing the cwd from sys.path.\n"
     ]
    },
    {
     "data": {
      "image/png": "[encoded data removed]",
      "text/plain": [
       "<Figure size 720x432 with 2 Axes>"
      ]
     },
     "metadata": {
      "needs_background": "light"
     },
     "output_type": "display_data"
    }
   ],
   "source": [
    "from numpy.linalg import inv\n",
    "\n",
    "X = delta.as_matrix()\n",
    "S = covValue.as_matrix()\n",
    "for i in range(3):\n",
    "    X[:,i] = X[:,i] - meanValue[i]\n",
    "    \n",
    "def mahalanobis(row):\n",
    "    return np.matmul(row,S).dot(row)   \n",
    "    \n",
    "anomaly_score = np.apply_along_axis( mahalanobis, axis=1, arr=X)\n",
    "\n",
    "fig = plt.figure(figsize=(10,6))\n",
    "ax = fig.add_subplot(111, projection='3d')\n",
    "p = ax.scatter(delta.AAPL,delta.GOOG,delta.MSFT,c=anomaly_score,cmap='jet')\n",
    "ax.set_xlabel('AAPL')\n",
    "ax.set_ylabel('GOOG')\n",
    "ax.set_zlabel('MSFT')\n",
    "fig.colorbar(p)\n",
    "plt.show()"
   ]
  },
  {
   "cell_type": "code",
   "execution_count": 44,
   "metadata": {},
   "outputs": [
    {
     "data": {
      "text/html": [
       "<div>\n",
       "<style scoped>\n",
       "    .dataframe tbody tr th:only-of-type {\n",
       "        vertical-align: middle;\n",
       "    }\n",
       "\n",
       "    .dataframe tbody tr th {\n",
       "        vertical-align: top;\n",
       "    }\n",
       "\n",
       "    .dataframe thead th {\n",
       "        text-align: right;\n",
       "    }\n",
       "</style>\n",
       "<table border=\"1\" class=\"dataframe\">\n",
       "  <thead>\n",
       "    <tr style=\"text-align: right;\">\n",
       "      <th></th>\n",
       "      <th>AAPL</th>\n",
       "      <th>GOOG</th>\n",
       "      <th>MSFT</th>\n",
       "      <th>Anomaly score</th>\n",
       "    </tr>\n",
       "    <tr>\n",
       "      <th>Date</th>\n",
       "      <th></th>\n",
       "      <th></th>\n",
       "      <th></th>\n",
       "      <th></th>\n",
       "    </tr>\n",
       "  </thead>\n",
       "  <tbody>\n",
       "    <tr>\n",
       "      <th>2020-03-16</th>\n",
       "      <td>-13.433882</td>\n",
       "      <td>-11.380421</td>\n",
       "      <td>-15.146236</td>\n",
       "      <td>8890.478757</td>\n",
       "    </tr>\n",
       "    <tr>\n",
       "      <th>2020-03-13</th>\n",
       "      <td>11.411637</td>\n",
       "      <td>9.122049</td>\n",
       "      <td>13.809678</td>\n",
       "      <td>6602.021006</td>\n",
       "    </tr>\n",
       "  </tbody>\n",
       "</table>\n",
       "</div>"
      ],
      "text/plain": [
       "                 AAPL       GOOG       MSFT  Anomaly score\n",
       "Date                                                      \n",
       "2020-03-16 -13.433882 -11.380421 -15.146236    8890.478757\n",
       "2020-03-13  11.411637   9.122049  13.809678    6602.021006"
      ]
     },
     "execution_count": 44,
     "metadata": {},
     "output_type": "execute_result"
    }
   ],
   "source": [
    "anom = pd.DataFrame(anomaly_score, index=delta.index, columns=['Anomaly score'])\n",
    "result = pd.concat((delta,anom), axis=1)\n",
    "result.nlargest(2,'Anomaly score')"
   ]
  },
  {
   "cell_type": "code",
   "execution_count": null,
   "metadata": {},
   "outputs": [],
   "source": []
  },
  {
   "cell_type": "code",
   "execution_count": null,
   "metadata": {},
   "outputs": [],
   "source": []
  }
 ],
 "metadata": {
  "kernelspec": {
   "display_name": "Python 2",
   "language": "python",
   "name": "python2"
  },
  "language_info": {
   "codemirror_mode": {
    "name": "ipython",
    "version": 2
   },
   "file_extension": ".py",
   "mimetype": "text/x-python",
   "name": "python",
   "nbconvert_exporter": "python",
   "pygments_lexer": "ipython2",
   "version": "2.7.16"
  }
 },
 "nbformat": 4,
 "nbformat_minor": 2
}
